{
 "cells": [
  {
   "cell_type": "code",
   "execution_count": 2,
   "id": "bb4f3c16-37f0-461e-a0dc-0e96f271ff57",
   "metadata": {},
   "outputs": [],
   "source": [
    "import numpy as np"
   ]
  },
  {
   "cell_type": "markdown",
   "id": "69859846-7b9d-4fd1-89fc-5fbca1b0df4f",
   "metadata": {},
   "source": [
    "## 1.\tExplain the difference between deep copy and shallow copy in NumPy arrays."
   ]
  },
  {
   "cell_type": "markdown",
   "id": "d9aa46e7-689c-4184-9b99-2b9de3ccb774",
   "metadata": {},
   "source": [
    "### deep copy\n",
    "* deep copy is a copy where the any changes in the original does not change in copy.\n",
    "### shallow copy\n",
    "* shallow copy is a copy where the changes in original change in the copy."
   ]
  },
  {
   "cell_type": "markdown",
   "id": "2e018e48-53f9-4430-ac65-4ab8678d0dfc",
   "metadata": {},
   "source": [
    "## 2.\tExplain the difference between array and list?"
   ]
  },
  {
   "cell_type": "markdown",
   "id": "871be918-5a78-4320-8a8d-dff9a2d6abfb",
   "metadata": {},
   "source": [
    "### list\n",
    "* a list contain different types of data types.\n",
    "* list have huge memory usage\n",
    "### array\n",
    "* array contain same data type\n",
    "* less memory usage\n",
    "* stored in contigenously location\n",
    "* item wise computetion is possible"
   ]
  },
  {
   "cell_type": "markdown",
   "id": "54e0ece0-a113-40ec-aed7-e574a55bf1fd",
   "metadata": {},
   "source": [
    "## 3.\tGiven an array a = np.array([10, 20, 30]), how do you square every element in the array?"
   ]
  },
  {
   "cell_type": "code",
   "execution_count": 6,
   "id": "ef5b4141-9b6d-411d-a2a7-07f79b18d7d5",
   "metadata": {},
   "outputs": [
    {
     "data": {
      "text/plain": [
       "array([100, 400, 900])"
      ]
     },
     "execution_count": 6,
     "metadata": {},
     "output_type": "execute_result"
    }
   ],
   "source": [
    "a=np.array([10,20,30])\n",
    "square=np.square(a)\n",
    "square"
   ]
  },
  {
   "cell_type": "markdown",
   "id": "dc4d0e5f-622c-4170-a438-26a8deb827b8",
   "metadata": {},
   "source": [
    "## 4.\tHow do you create an array of zeros with shape (3, 4)?"
   ]
  },
  {
   "cell_type": "code",
   "execution_count": 5,
   "id": "75f7952f-b349-42c5-ba05-bf79b8ae7451",
   "metadata": {},
   "outputs": [
    {
     "data": {
      "text/plain": [
       "array([[0, 0, 0, 0],\n",
       "       [0, 0, 0, 0],\n",
       "       [0, 0, 0, 0]])"
      ]
     },
     "execution_count": 5,
     "metadata": {},
     "output_type": "execute_result"
    }
   ],
   "source": [
    "zeros=np.zeros((3,4),dtype=int)\n",
    "zeros"
   ]
  },
  {
   "cell_type": "markdown",
   "id": "e263d094-50f1-44c5-9ce7-e23bd50c92f9",
   "metadata": {},
   "source": [
    "## 5.\tGiven the 1D array a = np.array([1, 2, 3, 4, 5]), how do you calculate the cumulative sum of the elements?"
   ]
  },
  {
   "cell_type": "code",
   "execution_count": 10,
   "id": "524101a1-49a2-464d-ab0e-67a4be3b25c5",
   "metadata": {},
   "outputs": [
    {
     "data": {
      "text/plain": [
       "15"
      ]
     },
     "execution_count": 10,
     "metadata": {},
     "output_type": "execute_result"
    }
   ],
   "source": [
    "a=np.array([1,2,3,4,5])\n",
    "cumulative_sum=np.sum(a)\n",
    "cumulative_sum"
   ]
  },
  {
   "cell_type": "markdown",
   "id": "938cd299-1983-47a3-be62-f58d31521694",
   "metadata": {},
   "source": [
    "## 6.\tHow do you reverse the elements in a NumPy array a = np.array([1, 2, 3, 4, 5])?"
   ]
  },
  {
   "cell_type": "code",
   "execution_count": 12,
   "id": "694214ee-7047-43bb-b656-885038406c51",
   "metadata": {},
   "outputs": [
    {
     "data": {
      "text/plain": [
       "array([5, 4, 3, 2, 1])"
      ]
     },
     "execution_count": 12,
     "metadata": {},
     "output_type": "execute_result"
    }
   ],
   "source": [
    "a=np.array([1,2,3,4,5])\n",
    "reverse=a[::-1]\n",
    "reverse"
   ]
  },
  {
   "cell_type": "markdown",
   "id": "13ba8604-6a8c-4060-a598-db885b20b7bf",
   "metadata": {},
   "source": [
    "## 7.\tHow do you find the indices of elements that are greater than 4 in the array a = np.array([1, 2, 3, 4, 5, 6, 7])?"
   ]
  },
  {
   "cell_type": "code",
   "execution_count": 18,
   "id": "3e3b01b4-ef1d-40a3-b960-045400666c9c",
   "metadata": {},
   "outputs": [
    {
     "name": "stdout",
     "output_type": "stream",
     "text": [
      "(4,) 5\n",
      "(5,) 6\n",
      "(6,) 7\n"
     ]
    }
   ],
   "source": [
    "a=np.array([1,2,3,4,5,6,7])\n",
    "for idx,x in np.ndenumerate(a):\n",
    "    if x>4:\n",
    "        print(idx,x)"
   ]
  },
  {
   "cell_type": "markdown",
   "id": "34d8cd87-fa9e-4c3b-97e9-f6edad568946",
   "metadata": {},
   "source": [
    "## 8.\tHow do you create a 2D array with random floating-point numbers between 0 and 1 of shape (3, 3)?"
   ]
  },
  {
   "cell_type": "code",
   "execution_count": 19,
   "id": "5472746b-b64c-47c6-9e20-5c79e9348a4f",
   "metadata": {},
   "outputs": [
    {
     "data": {
      "text/plain": [
       "array([[0.84532441, 0.30372642, 0.58735078],\n",
       "       [0.27767741, 0.93917968, 0.6430771 ],\n",
       "       [0.84701087, 0.65150951, 0.12115447]])"
      ]
     },
     "execution_count": 19,
     "metadata": {},
     "output_type": "execute_result"
    }
   ],
   "source": [
    "float=np.random.rand(3,3)\n",
    "float"
   ]
  },
  {
   "cell_type": "markdown",
   "id": "94bd2129-6fd1-427e-8abe-3edf7aabac46",
   "metadata": {},
   "source": [
    "## 9.\tExtract the elements at indices [0, 2, 4] from the array a = np.array([10, 20, 30, 40, 50])."
   ]
  },
  {
   "cell_type": "code",
   "execution_count": 25,
   "id": "ce1af89c-5d59-4ac9-8eb6-525d877dde97",
   "metadata": {},
   "outputs": [
    {
     "data": {
      "text/plain": [
       "array([10, 30, 50])"
      ]
     },
     "execution_count": 25,
     "metadata": {},
     "output_type": "execute_result"
    }
   ],
   "source": [
    "a=np.array([10,20,30,40,50])\n",
    "new=a[::2]\n",
    "new"
   ]
  },
  {
   "cell_type": "markdown",
   "id": "bb385d91-d094-4e8e-8b8f-3c79878673dc",
   "metadata": {},
   "source": [
    "## 10.\tGiven the array a = np.array([10, 20, 30, 40]), how do you normalize the array so that its values are between 0 and 1?"
   ]
  },
  {
   "cell_type": "code",
   "execution_count": 34,
   "id": "7251dbb1-618e-4381-8105-38365230d8bb",
   "metadata": {},
   "outputs": [
    {
     "data": {
      "text/plain": [
       "array([0.        , 0.33333333, 0.66666667, 1.        ])"
      ]
     },
     "execution_count": 34,
     "metadata": {},
     "output_type": "execute_result"
    }
   ],
   "source": [
    "a=np.array([10,20,30,40])\n",
    "normalize=(a-np.min(a))/(np.max(a)-np.min(a))\n",
    "normalize"
   ]
  },
  {
   "cell_type": "markdown",
   "id": "99946350-8c64-473d-a228-28418e4da4aa",
   "metadata": {},
   "source": [
    "## 11.\tHow do you concatenate two arrays a = np.array([1, 2, 3]) and b = np.array([4, 5, 6]) along the first axis?"
   ]
  },
  {
   "cell_type": "code",
   "execution_count": 35,
   "id": "b5116770-0793-4bf1-80af-2539ef0d34f4",
   "metadata": {},
   "outputs": [
    {
     "data": {
      "text/plain": [
       "array([1, 2, 3, 4, 5, 6])"
      ]
     },
     "execution_count": 35,
     "metadata": {},
     "output_type": "execute_result"
    }
   ],
   "source": [
    "a=np.array([1,2,3])\n",
    "b=np.array([4,5,6])\n",
    "new=np.concatenate((a,b),axis=0)\n",
    "new"
   ]
  },
  {
   "cell_type": "markdown",
   "id": "0f5e2198-11df-425d-bf39-9f85b094c243",
   "metadata": {},
   "source": [
    "## 12.\tHow do you find the dot product of two arrays a = np.array([1, 2, 3]) and b = np.array([4, 5, 6])?"
   ]
  },
  {
   "cell_type": "code",
   "execution_count": 36,
   "id": "8ed3c486-e66a-41c6-b73d-112e53b46c60",
   "metadata": {},
   "outputs": [
    {
     "data": {
      "text/plain": [
       "32"
      ]
     },
     "execution_count": 36,
     "metadata": {},
     "output_type": "execute_result"
    }
   ],
   "source": [
    "a = np.array([1, 2, 3])\n",
    "b = np.array([4,5,6])\n",
    "new=np.dot(a,b)\n",
    "new"
   ]
  },
  {
   "cell_type": "markdown",
   "id": "773c61cf-87ec-4b73-8300-5aae973f9771",
   "metadata": {},
   "source": [
    "## 13.\tHow do you create an identity matrix of size 4x4?"
   ]
  },
  {
   "cell_type": "code",
   "execution_count": 38,
   "id": "7fe29366-1f52-434a-a661-a69097f066f2",
   "metadata": {},
   "outputs": [
    {
     "data": {
      "text/plain": [
       "array([[1, 1, 1, 1],\n",
       "       [1, 1, 1, 1],\n",
       "       [1, 1, 1, 1],\n",
       "       [1, 1, 1, 1]])"
      ]
     },
     "execution_count": 38,
     "metadata": {},
     "output_type": "execute_result"
    }
   ],
   "source": [
    "one=np.ones((4,4),dtype=int)\n",
    "one"
   ]
  },
  {
   "cell_type": "markdown",
   "id": "0cb15a8f-b774-43b9-bce1-45e802940ab2",
   "metadata": {},
   "source": [
    "## 14.\tHow do you generate an array with random integers between 1 and 100, of shape (4, 4)?"
   ]
  },
  {
   "cell_type": "code",
   "execution_count": 41,
   "id": "16b57a9e-de06-41d9-b67d-57715a6e85c7",
   "metadata": {},
   "outputs": [
    {
     "data": {
      "text/plain": [
       "array([[16, 23, 48, 99],\n",
       "       [51, 96, 20, 22],\n",
       "       [ 8, 84, 20, 57],\n",
       "       [ 1, 51, 10, 39]])"
      ]
     },
     "execution_count": 41,
     "metadata": {},
     "output_type": "execute_result"
    }
   ],
   "source": [
    "random_int=np.random.randint(1,100,(4,4))\n",
    "random_int"
   ]
  },
  {
   "cell_type": "markdown",
   "id": "2f35d020-051c-47b8-a89f-8402546d7933",
   "metadata": {},
   "source": [
    "## 15.\tHow do you split a NumPy array a = np.array([1, 2, 3, 4, 5, 6]) into three sub-arrays?"
   ]
  },
  {
   "cell_type": "code",
   "execution_count": 48,
   "id": "361f2bd0-23f6-4777-8c02-e92b1b77fddc",
   "metadata": {},
   "outputs": [
    {
     "data": {
      "text/plain": [
       "[array([1, 2]), array([3, 4]), array([5, 6])]"
      ]
     },
     "execution_count": 48,
     "metadata": {},
     "output_type": "execute_result"
    }
   ],
   "source": [
    "a = np.array([1, 2, 3, 4, 5, 6])\n",
    "split=np.array_split(a,3)\n",
    "split"
   ]
  },
  {
   "cell_type": "markdown",
   "id": "1efde283-e65e-4376-874a-14ee843a3488",
   "metadata": {},
   "source": [
    "## 16.\tGiven the 2D array a = np.array([[1, 2, 3], [4, 5, 6], [7, 8, 9]]), how do you compute the sum of all elements along the second axis?"
   ]
  },
  {
   "cell_type": "code",
   "execution_count": 49,
   "id": "c7855f5a-58aa-4516-8b4a-9f049341e908",
   "metadata": {},
   "outputs": [
    {
     "data": {
      "text/plain": [
       "array([ 6, 15, 24])"
      ]
     },
     "execution_count": 49,
     "metadata": {},
     "output_type": "execute_result"
    }
   ],
   "source": [
    "a = np.array([[1, 2, 3], [4, 5, 6], [7, 8, 9]])\n",
    "new=np.sum(a,axis=1)\n",
    "new"
   ]
  },
  {
   "cell_type": "markdown",
   "id": "13a8b9c9-e501-4953-bc52-de58a161daa7",
   "metadata": {},
   "source": [
    "## 17.\tHow do you compute the element-wise maximum of two arrays a = np.array([1, 2, 3]) and b = np.array([3, 2, 1])?"
   ]
  },
  {
   "cell_type": "code",
   "execution_count": 52,
   "id": "a6fa5110-a5dc-48f3-8eea-2d632d48a94d",
   "metadata": {},
   "outputs": [
    {
     "data": {
      "text/plain": [
       "array([3, 2, 3])"
      ]
     },
     "execution_count": 52,
     "metadata": {},
     "output_type": "execute_result"
    }
   ],
   "source": [
    "a=np.array([1,2,3])\n",
    "b=np.array([3,2,1])\n",
    "new=np.max((a,b),axis=0)\n",
    "new"
   ]
  },
  {
   "cell_type": "markdown",
   "id": "74f3a458-7323-477e-b3ea-ec79f9a4d57f",
   "metadata": {},
   "source": [
    "## 18.\tHow do you find the unique elements in the array a = np.array([1, 2, 2, 3, 3, 4, 5])?"
   ]
  },
  {
   "cell_type": "code",
   "execution_count": 53,
   "id": "fb6221f2-8cd8-404e-9187-15cc322ac3e8",
   "metadata": {},
   "outputs": [
    {
     "data": {
      "text/plain": [
       "array([1, 2, 3, 4, 5])"
      ]
     },
     "execution_count": 53,
     "metadata": {},
     "output_type": "execute_result"
    }
   ],
   "source": [
    "a = np.array([1, 2, 2, 3, 3, 4, 5])\n",
    "new=np.unique(a)\n",
    "new"
   ]
  },
  {
   "cell_type": "markdown",
   "id": "6e5aebfd-3de6-4c47-b56b-4b94276eb8e8",
   "metadata": {},
   "source": [
    "## 19.\tHow do you use np.arange to create an array of values between 1 and 50 with a step of 3, and then filter the elements that are divisible by 5?"
   ]
  },
  {
   "cell_type": "code",
   "execution_count": 62,
   "id": "91c31b40-c4db-4951-977b-d6049c1f789e",
   "metadata": {},
   "outputs": [
    {
     "name": "stdout",
     "output_type": "stream",
     "text": [
      "[10 25 40]\n"
     ]
    }
   ],
   "source": [
    "new=np.arange(1,50,3)\n",
    "new1=new%5==0\n",
    "a=new[new1]\n",
    "print(a)"
   ]
  },
  {
   "cell_type": "markdown",
   "id": "75f4d4b8-9c21-447c-8617-f970a76d7bd5",
   "metadata": {},
   "source": [
    "## 20.\tGiven the array a = np.array([1, 2, 3, 4, 5]) and b = np.array([6, 7, 8, 9, 10]), use np.where to replace elements in a that are less than 3 with -3, then  horizontally stack a and b."
   ]
  },
  {
   "cell_type": "code",
   "execution_count": 71,
   "id": "0f8a839e-98d7-4899-84a8-7560d8b0b2d2",
   "metadata": {},
   "outputs": [
    {
     "data": {
      "text/plain": [
       "array([-3, -3,  3,  4,  5,  6,  7,  8,  9, 10])"
      ]
     },
     "execution_count": 71,
     "metadata": {},
     "output_type": "execute_result"
    }
   ],
   "source": [
    "a=np.array([1,2,3,4,5])\n",
    "b=np.array([6,7,8,9,10])\n",
    "a=np.where(a<3,-3,a)\n",
    "hstack=np.hstack((a,b))\n",
    "hstack"
   ]
  },
  {
   "cell_type": "markdown",
   "id": "e5576474-21fa-4e3d-abee-c977a387a1fb",
   "metadata": {},
   "source": [
    "## 21.\tHow do you generate a 3D array of shape (4, 3, 2) where each 2D slice (3x2) is filled with random values between 0 and 1, and then normalize the entire 3D array to values between 0 and 1 (with respect to the min and max of the array)?"
   ]
  },
  {
   "cell_type": "code",
   "execution_count": 77,
   "id": "12343e56-5be0-420b-ae67-76aedbfc91db",
   "metadata": {},
   "outputs": [
    {
     "data": {
      "text/plain": [
       "array([[[0.37454012, 0.95071431],\n",
       "        [0.73199394, 0.59865848],\n",
       "        [0.15601864, 0.15599452]],\n",
       "\n",
       "       [[0.05808361, 0.86617615],\n",
       "        [0.60111501, 0.70807258],\n",
       "        [0.02058449, 0.96990985]],\n",
       "\n",
       "       [[0.83244264, 0.21233911],\n",
       "        [0.18182497, 0.18340451],\n",
       "        [0.30424224, 0.52475643]],\n",
       "\n",
       "       [[0.43194502, 0.29122914],\n",
       "        [0.61185289, 0.13949386],\n",
       "        [0.29214465, 0.36636184]]])"
      ]
     },
     "execution_count": 77,
     "metadata": {},
     "output_type": "execute_result"
    }
   ],
   "source": [
    "np.random.seed(42)\n",
    "a=np.random.rand(4,3,2)\n",
    "a"
   ]
  },
  {
   "cell_type": "code",
   "execution_count": 78,
   "id": "904ecefe-9af8-41a8-919b-4076165c6061",
   "metadata": {},
   "outputs": [
    {
     "data": {
      "text/plain": [
       "array([[[0.37284965, 0.9797798 ],\n",
       "        [0.74938422, 0.60893137],\n",
       "        [0.14266357, 0.14263816]],\n",
       "\n",
       "       [[0.03950081, 0.89072903],\n",
       "        [0.61151903, 0.72418595],\n",
       "        [0.        , 1.        ]],\n",
       "\n",
       "       [[0.85519484, 0.20199041],\n",
       "        [0.16984743, 0.17151129],\n",
       "        [0.2987993 , 0.53108445]],\n",
       "\n",
       "       [[0.4333188 , 0.28509156],\n",
       "        [0.62283009, 0.12525671],\n",
       "        [0.28605594, 0.36423482]]])"
      ]
     },
     "execution_count": 78,
     "metadata": {},
     "output_type": "execute_result"
    }
   ],
   "source": [
    "normalize=(a-np.min(a))/(np.max(a)-np.min(a))\n",
    "normalize"
   ]
  },
  {
   "cell_type": "markdown",
   "id": "045a45f7-81aa-4793-8e98-8a90fe967ca0",
   "metadata": {},
   "source": [
    "## 22.\tGiven a 2D array of shape (5, 5) filled with random integers between 1 and 100, replace all odd numbers with -1 and all even numbers with 1."
   ]
  },
  {
   "cell_type": "code",
   "execution_count": 88,
   "id": "664072f2-b0cc-438d-ab5a-c776986d6ba0",
   "metadata": {},
   "outputs": [
    {
     "data": {
      "text/plain": [
       "array([[71, 44,  8, 47, 35],\n",
       "       [78, 81, 36, 50,  4],\n",
       "       [ 2,  6, 54,  4, 54],\n",
       "       [93, 63, 18, 90, 44],\n",
       "       [34, 74, 62, 14, 95]])"
      ]
     },
     "execution_count": 88,
     "metadata": {},
     "output_type": "execute_result"
    }
   ],
   "source": [
    "a=np.random.randint(1,100,(5,5))\n",
    "a"
   ]
  },
  {
   "cell_type": "code",
   "execution_count": 89,
   "id": "3340b2d7-0308-4795-abb3-c8beb94a9e15",
   "metadata": {},
   "outputs": [
    {
     "data": {
      "text/plain": [
       "array([[-1,  1,  1, -1, -1],\n",
       "       [ 1, -1,  1,  1,  1],\n",
       "       [ 1,  1,  1,  1,  1],\n",
       "       [-1, -1,  1,  1,  1],\n",
       "       [ 1,  1,  1,  1, -1]])"
      ]
     },
     "execution_count": 89,
     "metadata": {},
     "output_type": "execute_result"
    }
   ],
   "source": [
    "a=np.where(a%2!=0,-1,1)\n",
    "a"
   ]
  },
  {
   "cell_type": "markdown",
   "id": "0e207f89-04c9-474b-b504-3449a29efcfb",
   "metadata": {},
   "source": [
    "## 23.\tGiven a large 1D array of 10 million random floating-point numbers between 0 and 1, find the 10th and 90th percentile of the values."
   ]
  },
  {
   "cell_type": "code",
   "execution_count": 92,
   "id": "4d4e3870-e8fd-415e-bb84-ed2ddacf5f58",
   "metadata": {},
   "outputs": [
    {
     "data": {
      "text/plain": [
       "0.09993289407905184"
      ]
     },
     "execution_count": 92,
     "metadata": {},
     "output_type": "execute_result"
    }
   ],
   "source": [
    "a=np.random.rand(10000000)\n",
    "percentile=np.percentile(a,10)\n",
    "percentile"
   ]
  },
  {
   "cell_type": "code",
   "execution_count": 93,
   "id": "af5c0e42-f692-440c-bdee-fd8ba5215883",
   "metadata": {},
   "outputs": [
    {
     "data": {
      "text/plain": [
       "0.8999446660820476"
      ]
     },
     "execution_count": 93,
     "metadata": {},
     "output_type": "execute_result"
    }
   ],
   "source": [
    "percentile1=np.percentile(a,90)\n",
    "percentile1"
   ]
  },
  {
   "cell_type": "markdown",
   "id": "c67db1c8-68bf-44f3-95ef-119da7edec3a",
   "metadata": {},
   "source": [
    "## 24.\tGiven a 5x5 matrix arr, use np.where to:\n",
    "•\tReplace all elements greater than 10 with the value 100.\n",
    "\n",
    "•\tReplace all elements less than or equal to 10 with the value -100\n"
   ]
  },
  {
   "cell_type": "code",
   "execution_count": 107,
   "id": "830c6a5d-3bc8-4de8-92a3-0077637451c0",
   "metadata": {},
   "outputs": [],
   "source": [
    "a=np.arange(0,25)\n",
    "a=a.reshape(5,5)"
   ]
  },
  {
   "cell_type": "code",
   "execution_count": 108,
   "id": "7fe5f1dd-9180-4b22-97bd-e73fa7c38e92",
   "metadata": {},
   "outputs": [
    {
     "data": {
      "text/plain": [
       "array([[-100, -100, -100, -100, -100],\n",
       "       [-100, -100, -100, -100, -100],\n",
       "       [-100,  100,  100,  100,  100],\n",
       "       [ 100,  100,  100,  100,  100],\n",
       "       [ 100,  100,  100,  100,  100]])"
      ]
     },
     "execution_count": 108,
     "metadata": {},
     "output_type": "execute_result"
    }
   ],
   "source": [
    "a=np.where(a<=10,-100,100)\n",
    "a"
   ]
  },
  {
   "cell_type": "markdown",
   "id": "0319c042-8fca-4e77-a81f-134d9b0c2ae9",
   "metadata": {},
   "source": [
    "## 25.\tGiven a 2D array arr = np.array([[1, 2, 3, 4], [5, 6, 7, 8], [9, 10, 11, 12]]), perform the following operations:\n",
    "•\tHorizontally split the array into two equal parts.\n",
    "    \n",
    "•\tVertically split the array into three equal parts.\n",
    "    \n",
    "•\tStack the split parts vertically and horizontally.\n"
   ]
  },
  {
   "cell_type": "code",
   "execution_count": 110,
   "id": "b5496aa7-61f6-4def-a200-22ffa2c4c7bc",
   "metadata": {},
   "outputs": [],
   "source": [
    "arr = np.array([[1, 2, 3, 4], [5, 6, 7, 8], [9, 10, 11, 12]])"
   ]
  },
  {
   "cell_type": "code",
   "execution_count": 111,
   "id": "c02301a0-348d-43a5-b84d-3b9de1d78bd4",
   "metadata": {},
   "outputs": [
    {
     "data": {
      "text/plain": [
       "[array([[ 1,  2],\n",
       "        [ 5,  6],\n",
       "        [ 9, 10]]),\n",
       " array([[ 3,  4],\n",
       "        [ 7,  8],\n",
       "        [11, 12]])]"
      ]
     },
     "execution_count": 111,
     "metadata": {},
     "output_type": "execute_result"
    }
   ],
   "source": [
    "split=np.array_split(arr,2,axis=1)\n",
    "split"
   ]
  },
  {
   "cell_type": "code",
   "execution_count": 112,
   "id": "ff6ed994-725e-4bb3-a8bf-264714248a8b",
   "metadata": {},
   "outputs": [
    {
     "data": {
      "text/plain": [
       "[array([[1, 2, 3, 4]]), array([[5, 6, 7, 8]]), array([[ 9, 10, 11, 12]])]"
      ]
     },
     "execution_count": 112,
     "metadata": {},
     "output_type": "execute_result"
    }
   ],
   "source": [
    "ver_split=np.array_split(arr,3)\n",
    "ver_split"
   ]
  },
  {
   "cell_type": "code",
   "execution_count": 113,
   "id": "031cac15-9cce-4ef3-9deb-a5f7379e9ac2",
   "metadata": {},
   "outputs": [
    {
     "ename": "TypeError",
     "evalue": "'list' object cannot be interpreted as an integer",
     "output_type": "error",
     "traceback": [
      "\u001b[1;31m---------------------------------------------------------------------------\u001b[0m",
      "\u001b[1;31mTypeError\u001b[0m                                 Traceback (most recent call last)",
      "Cell \u001b[1;32mIn[113], line 1\u001b[0m\n\u001b[1;32m----> 1\u001b[0m stack\u001b[38;5;241m=\u001b[39mnp\u001b[38;5;241m.\u001b[39mstack(split,ver_split)\n",
      "File \u001b[1;32m~\\anaconda3\\Lib\\site-packages\\numpy\\core\\shape_base.py:452\u001b[0m, in \u001b[0;36mstack\u001b[1;34m(arrays, axis, out, dtype, casting)\u001b[0m\n\u001b[0;32m    449\u001b[0m     \u001b[38;5;28;01mraise\u001b[39;00m \u001b[38;5;167;01mValueError\u001b[39;00m(\u001b[38;5;124m'\u001b[39m\u001b[38;5;124mall input arrays must have the same shape\u001b[39m\u001b[38;5;124m'\u001b[39m)\n\u001b[0;32m    451\u001b[0m result_ndim \u001b[38;5;241m=\u001b[39m arrays[\u001b[38;5;241m0\u001b[39m]\u001b[38;5;241m.\u001b[39mndim \u001b[38;5;241m+\u001b[39m \u001b[38;5;241m1\u001b[39m\n\u001b[1;32m--> 452\u001b[0m axis \u001b[38;5;241m=\u001b[39m normalize_axis_index(axis, result_ndim)\n\u001b[0;32m    454\u001b[0m sl \u001b[38;5;241m=\u001b[39m (\u001b[38;5;28mslice\u001b[39m(\u001b[38;5;28;01mNone\u001b[39;00m),) \u001b[38;5;241m*\u001b[39m axis \u001b[38;5;241m+\u001b[39m (_nx\u001b[38;5;241m.\u001b[39mnewaxis,)\n\u001b[0;32m    455\u001b[0m expanded_arrays \u001b[38;5;241m=\u001b[39m [arr[sl] \u001b[38;5;28;01mfor\u001b[39;00m arr \u001b[38;5;129;01min\u001b[39;00m arrays]\n",
      "\u001b[1;31mTypeError\u001b[0m: 'list' object cannot be interpreted as an integer"
     ]
    }
   ],
   "source": [
    "stack=np.stack(split,ver_split)\n",
    "stack"
   ]
  },
  {
   "cell_type": "code",
   "execution_count": null,
   "id": "84d0a8da-675b-4808-95ac-a2c29f19d8a6",
   "metadata": {},
   "outputs": [],
   "source": []
  }
 ],
 "metadata": {
  "kernelspec": {
   "display_name": "Python 3 (ipykernel)",
   "language": "python",
   "name": "python3"
  },
  "language_info": {
   "codemirror_mode": {
    "name": "ipython",
    "version": 3
   },
   "file_extension": ".py",
   "mimetype": "text/x-python",
   "name": "python",
   "nbconvert_exporter": "python",
   "pygments_lexer": "ipython3",
   "version": "3.12.4"
  }
 },
 "nbformat": 4,
 "nbformat_minor": 5
}
